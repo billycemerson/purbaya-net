{
  "cells": [
    {
      "cell_type": "markdown",
      "metadata": {
        "id": "view-in-github",
        "colab_type": "text"
      },
      "source": [
        "<a href=\"https://colab.research.google.com/github/billycemerson/purbaya-net/blob/main/src/purbaya-ner.ipynb\" target=\"_parent\"><img src=\"https://colab.research.google.com/assets/colab-badge.svg\" alt=\"Open In Colab\"/></a>"
      ]
    },
    {
      "cell_type": "code",
      "source": [
        "!git clone https://github.com/billycemerson/purbaya-net"
      ],
      "metadata": {
        "id": "wd9WVJwx_IYS"
      },
      "id": "wd9WVJwx_IYS",
      "execution_count": null,
      "outputs": []
    },
    {
      "cell_type": "code",
      "source": [
        "%cd purbaya-net\n",
        "!ls"
      ],
      "metadata": {
        "id": "yylNPfa4_Ro7"
      },
      "id": "yylNPfa4_Ro7",
      "execution_count": null,
      "outputs": []
    },
    {
      "cell_type": "markdown",
      "source": [
        "#### Install Package"
      ],
      "metadata": {
        "id": "3EGStm5X_j2Q"
      },
      "id": "3EGStm5X_j2Q"
    },
    {
      "cell_type": "code",
      "source": [
        "!pip install torch transformers pandas"
      ],
      "metadata": {
        "collapsed": true,
        "id": "y3KxdXhB_nRY"
      },
      "id": "y3KxdXhB_nRY",
      "execution_count": null,
      "outputs": []
    },
    {
      "cell_type": "markdown",
      "source": [
        "#### Import Package"
      ],
      "metadata": {
        "id": "XF5QqQhD_xbW"
      },
      "id": "XF5QqQhD_xbW"
    },
    {
      "cell_type": "code",
      "source": [
        "import pandas as pd\n",
        "from transformers import AutoTokenizer, AutoModelForTokenClassification, pipeline"
      ],
      "metadata": {
        "id": "G_zTLgCJ_1oN"
      },
      "id": "G_zTLgCJ_1oN",
      "execution_count": null,
      "outputs": []
    },
    {
      "cell_type": "markdown",
      "source": [
        "#### Load Model"
      ],
      "metadata": {
        "id": "lc2w1hpi_4d5"
      },
      "id": "lc2w1hpi_4d5"
    },
    {
      "cell_type": "code",
      "source": [
        "# Load model\n",
        "model_name = \"cahya/bert-base-indonesian-NER\"\n",
        "\n",
        "tokenizer = AutoTokenizer.from_pretrained(model_name)\n",
        "model = AutoModelForTokenClassification.from_pretrained(model_name)\n",
        "\n",
        "# Setup NER pipeline\n",
        "ner_pipeline = pipeline(\n",
        "    \"ner\",\n",
        "    model=model,\n",
        "    tokenizer=tokenizer,\n",
        "    aggregation_strategy=\"simple\"  # Group tokens into entities\n",
        ")"
      ],
      "metadata": {
        "id": "hNFzqP4B_7PW"
      },
      "id": "hNFzqP4B_7PW",
      "execution_count": null,
      "outputs": []
    },
    {
      "cell_type": "markdown",
      "source": [
        "#### Load Data"
      ],
      "metadata": {
        "id": "FefxASQdAFgS"
      },
      "id": "FefxASQdAFgS"
    },
    {
      "cell_type": "code",
      "source": [
        "# Load data\n",
        "df = pd.read_csv(\"data/kompas.csv\")\n",
        "df.head()"
      ],
      "metadata": {
        "id": "OKWBvLJsAEnB"
      },
      "id": "OKWBvLJsAEnB",
      "execution_count": null,
      "outputs": []
    },
    {
      "cell_type": "code",
      "execution_count": null,
      "metadata": {
        "id": "B-V8BjBl-rTD"
      },
      "outputs": [],
      "source": [
        "# Get only 1 row for testing\n",
        "row = df.iloc[0]\n",
        "\n",
        "# Concate the title and description to text for NER\n",
        "text = f\"{row['title']}. {row['description']}\"\n",
        "print(text)"
      ],
      "id": "B-V8BjBl-rTD"
    },
    {
      "cell_type": "markdown",
      "source": [
        "#### Apply NER"
      ],
      "metadata": {
        "id": "welA-MwHBP57"
      },
      "id": "welA-MwHBP57"
    },
    {
      "cell_type": "code",
      "source": [
        "# Apply NER\n",
        "entities = ner_pipeline(text)\n",
        "\n",
        "# See the results\n",
        "for ent in entities:\n",
        "    print(f\"{ent['word']} -> {ent['entity_group']} ({ent['score']:.2f})\")"
      ],
      "metadata": {
        "id": "xcAqNWkqBSG2"
      },
      "id": "xcAqNWkqBSG2",
      "execution_count": null,
      "outputs": []
    },
    {
      "cell_type": "code",
      "source": [
        "df_results = []\n",
        "\n",
        "# Apply in all row data\n",
        "for i, row in df.iterrows():\n",
        "    text = f\"{row['title']}. {row['description']}\"\n",
        "    entities = ner_pipeline(text)\n",
        "    for ent in entities:\n",
        "        df_results.append({\n",
        "            'article_id': i,\n",
        "            'entity': ent['word'],\n",
        "            'label': ent['entity_group'],\n",
        "            'score': ent['score']\n",
        "        })\n",
        "\n",
        "# Save results\n",
        "df_ner = pd.DataFrame(df_results)\n",
        "df_ner.to_csv(\"ner_results.csv\", index=False)"
      ],
      "metadata": {
        "id": "5MoXqVFTB_DT"
      },
      "id": "5MoXqVFTB_DT",
      "execution_count": null,
      "outputs": []
    },
    {
      "cell_type": "code",
      "source": [
        "df_ner.head()"
      ],
      "metadata": {
        "id": "EhpJ9WH-CKpA"
      },
      "id": "EhpJ9WH-CKpA",
      "execution_count": null,
      "outputs": []
    },
    {
      "cell_type": "code",
      "source": [
        "df_ner.info()"
      ],
      "metadata": {
        "id": "g0S2_nL7CNo9"
      },
      "id": "g0S2_nL7CNo9",
      "execution_count": null,
      "outputs": []
    }
  ],
  "metadata": {
    "kernelspec": {
      "display_name": "Python 3",
      "name": "python3"
    },
    "language_info": {
      "name": "python",
      "version": "3.10.18"
    },
    "colab": {
      "provenance": [],
      "gpuType": "T4",
      "include_colab_link": true
    },
    "accelerator": "GPU"
  },
  "nbformat": 4,
  "nbformat_minor": 5
}