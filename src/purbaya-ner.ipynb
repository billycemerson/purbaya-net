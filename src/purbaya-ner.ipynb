{
 "cells": [
  {
   "cell_type": "code",
   "execution_count": null,
   "metadata": {},
   "outputs": [],
   "source": [
    "import pandas as pd\n",
    "from transformers import AutoTokenizer, AutoModelForTokenClassification, pipeline\n",
    "\n",
    "# Load model\n",
    "model_name = \"cahya/bert-base-indonesian-NER\"\n",
    "\n",
    "tokenizer = AutoTokenizer.from_pretrained(model_name)\n",
    "model = AutoModelForTokenClassification.from_pretrained(model_name)\n",
    "\n",
    "# Setup NER pipeline\n",
    "ner_pipeline = pipeline(\n",
    "    \"ner\",\n",
    "    model=model,\n",
    "    tokenizer=tokenizer,\n",
    "    aggregation_strategy=\"simple\"  # Group tokens into entities\n",
    ")\n",
    "\n",
    "# Load data\n",
    "df = pd.read_csv(\"../data/kompas.csv\")\n",
    "\n",
    "# Get only 1 row for testing\n",
    "row = df.iloc[0]\n",
    "\n",
    "# Concate the title and description to text for NER\n",
    "text = f\"{row['title']}. {row['description']}\"\n",
    "print(text)\n",
    "\n",
    "# Apply NER\n",
    "entities = ner_pipeline(text)\n",
    "\n",
    "# See the results\n",
    "for ent in entities:\n",
    "    print(f\"{ent['word']} -> {ent['entity_group']} ({ent['score']:.2f})\")"
   ]
  }
 ],
 "metadata": {
  "kernelspec": {
   "display_name": "purbaya-net",
   "language": "python",
   "name": "python3"
  },
  "language_info": {
   "name": "python",
   "version": "3.10.18"
  }
 },
 "nbformat": 4,
 "nbformat_minor": 5
}
